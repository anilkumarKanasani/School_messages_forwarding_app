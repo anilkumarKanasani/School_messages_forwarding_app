{
 "cells": [
  {
   "cell_type": "code",
   "execution_count": null,
   "metadata": {},
   "outputs": [],
   "source": [
    "# Import necessary libraries\n",
    "from openai import OpenAI\n",
    "from environs import Env\n",
    "import json\n",
    "\n",
    "# Initialize environment variables\n",
    "env = Env()\n",
    "env.read_env(\"./.env\")\n",
    "\n",
    "# Create an OpenAI client\n",
    "client = OpenAI()"
   ]
  },
  {
   "cell_type": "code",
   "execution_count": null,
   "metadata": {},
   "outputs": [],
   "source": [
    "# get todays date\n",
    "from datetime import date\n",
    "today = date.today().strftime(\"%m/%d/%Y\")\n",
    "text = today + \" \" + \"Pizza 5 resta creadit card stuttgart\"\n",
    "text"
   ]
  },
  {
   "cell_type": "code",
   "execution_count": 51,
   "metadata": {},
   "outputs": [
    {
     "data": {
      "text/plain": [
       "{'ID': 98765432,\n",
       " 'Date': '5/22/2024',\n",
       " 'Description': 'Pizza',\n",
       " 'Sub-category': 'Restaurant',\n",
       " 'amount': -5,\n",
       " 'Location': 'Stuttgart',\n",
       " 'Mode': 'Creadit_card'}"
      ]
     },
     "execution_count": 51,
     "metadata": {},
     "output_type": "execute_result"
    }
   ],
   "source": [
    "response = client.chat.completions.create(\n",
    "        model=env(\"OPEN_AI_MODEL\"),  # The model to use\n",
    "        messages=[\n",
    "            {\n",
    "                \"role\": \"system\",  # The role of the message\n",
    "                \"content\": \"\"\"Convert the text into a json object with the following structure:\n",
    "                {\n",
    "                    \"ID\": random 8 digit number,\n",
    "                    \"Date\": \"5/1/2024\",\n",
    "                    \"Description\": \"Rewe\",\n",
    "                    \"Sub-category\": \"Coupon spendings\",\n",
    "                    \"amount\": 5,\n",
    "                    \"Location\": \"Stuttgart\",\n",
    "                    \"Mode\": \"coupons\"\n",
    "                    \n",
    "                }\n",
    "                The amount should be a negative number.\n",
    "                The Sub-category must be from the following list: \n",
    "                - Coupon spendings\n",
    "                - Groceries\n",
    "                - Restaurant\n",
    "                - PDP Income\n",
    "                - Office Travel Income\n",
    "                - Office Travel Spending\n",
    "                - PDP Spending\n",
    "                - To India\n",
    "                The Mode must be from the following list: \n",
    "                - Coupons\n",
    "                - Creadit_card\n",
    "                - N26\n",
    "                \"\"\"\n",
    "            },\n",
    "            {\n",
    "                \"role\": \"user\",  # The role of the message\n",
    "                \"content\": str(text),  # The content of the message\n",
    "            },\n",
    "        ],\n",
    "        temperature=0,  # The randomness of the output\n",
    "        max_tokens=4096,  # The maximum number of tokens in the output\n",
    "        top_p=1,  # The nucleus sampling parameter\n",
    "    )\n",
    "\n",
    "\n",
    "\n",
    "new_row = json.loads(response.choices[0].message.content)\n",
    "new_row"
   ]
  },
  {
   "cell_type": "code",
   "execution_count": 60,
   "metadata": {},
   "outputs": [
    {
     "data": {
      "text/plain": [
       "{'spreadsheetId': '1i4M66HBub5TI8Q7nViu8o-oPWTgkPMnNKw4pGGc89gE',\n",
       " 'tableRange': 'Writing_table!A1:G25',\n",
       " 'updates': {'spreadsheetId': '1i4M66HBub5TI8Q7nViu8o-oPWTgkPMnNKw4pGGc89gE',\n",
       "  'updatedRange': 'Writing_table!A26:G26',\n",
       "  'updatedRows': 1,\n",
       "  'updatedColumns': 7,\n",
       "  'updatedCells': 7}}"
      ]
     },
     "execution_count": 60,
     "metadata": {},
     "output_type": "execute_result"
    }
   ],
   "source": [
    "db_name = \"Expenses_app_db\"\n",
    "import gspread\n",
    "import numpy as np\n",
    "import pandas as pd\n",
    "gc = gspread.service_account(filename=\"./gsheet_credentials.json\")\n",
    "wk_sht = gc.open(db_name)\n",
    "# add new row to wk_sht\n",
    "wk_sht.worksheet(\"Writing_table\").append_row(list(new_row.values()))"
   ]
  }
 ],
 "metadata": {
  "kernelspec": {
   "display_name": "school_info",
   "language": "python",
   "name": "python3"
  },
  "language_info": {
   "codemirror_mode": {
    "name": "ipython",
    "version": 3
   },
   "file_extension": ".py",
   "mimetype": "text/x-python",
   "name": "python",
   "nbconvert_exporter": "python",
   "pygments_lexer": "ipython3",
   "version": "3.10.14"
  }
 },
 "nbformat": 4,
 "nbformat_minor": 2
}
